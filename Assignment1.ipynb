Assignment 4:
Machine learning:
1.	C) between -1 and 1
2.	C) Recursive feature elimination
3.	C) hyperplane
4.	A) Logistic Regression
5.	
6.	B) increases
7.	B) Random Forests explains more variance in data then decision trees
8.	B) Principal Components are calculated using unsupervised learning techniques C) Principal Components are linear combinations of Linear Variables.
